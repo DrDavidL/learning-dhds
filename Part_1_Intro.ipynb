{
  "cells": [
    {
      "cell_type": "markdown",
      "metadata": {
        "id": "view-in-github",
        "colab_type": "text"
      },
      "source": [
        "<a href=\"https://colab.research.google.com/github/DrDavidL/learning-dhds/blob/main/Part_1_Intro.ipynb\" target=\"_parent\"><img src=\"https://colab.research.google.com/assets/colab-badge.svg\" alt=\"Open In Colab\"/></a>"
      ]
    },
    {
      "cell_type": "markdown",
      "metadata": {
        "id": "0cpUyiFUIGUC"
      },
      "source": [
        "- Authored: David Liebovitz, MD\n",
        "- Additional code updates and comments contributed by Xinyang(Oliver) Zhou, Northwestern Univ. and, Jay Manadan\n",
        "- Northwestern University Feinberg School of Medicine      \n",
        "- Feel free to use with attribution.  \n",
        "\n",
        "\n",
        "[GitHub Study Guide](https://github.com/DrDavidL/learning-dhds)\n",
        "\n",
        "# Part 1: Learning Data Science\n",
        "\n",
        "## *Welcome, Future Data Scientists!*\n",
        "\n",
        "Part 1: Introduction to the Data Science Notebook\n",
        "\n",
        "## Purpose\n",
        "\n",
        "In this first part, we're going to get familiar with a super useful tool for data science: the **notebook**. Why are notebooks so popular?\n",
        "\n",
        "1. Work Step-by-Step: Notebooks let you work on your data in small pieces (called \"cells\"). If you make a mistake, it's easier to find and fix it.\n",
        "2. Easy Sharing: You can easily share your work in progress with others.\n",
        "3. Cloud Power: You can use the computing power of the internet (the \"cloud\") to handle big datasets and use powerful analysis tools.\n",
        "\n",
        "Notebooks are helpful even if you're not planning to be a data scientist:\n",
        "\n",
        "1. Interactive Learning: You can learn how data scientists work by seeing and running code that's already written.\n",
        "2. Understanding AI: With more and more AI being used, it's good to understand **how** AI models are built. Notebooks let you experience this firsthand.\n",
        "3. Reuse Your Work: You can save notebooks and use the same tools to look at other datasets later.\n",
        "\n",
        "\n",
        "Now, let's look at the two main parts of this notebook:\n",
        "\n",
        "- Text Cells: These are like the paragraphs you're reading right now. They explain things.\n",
        "- Code Cells: These contain instructions (code) for the computer to work with data.\n",
        "\n",
        "\n",
        "\n",
        "\n",
        "\n",
        "\n",
        "\n",
        "\n",
        "\n",
        "\n",
        "\n",
        "\n"
      ]
    },
    {
      "cell_type": "markdown",
      "metadata": {
        "id": "Id6tDF1HQSHD"
      },
      "source": [
        "## Let's Start with Text Cells\n",
        "This cell and the one above are **text cells**. To change the text in a text cell, just **double-click** it. You'll see the text change a bit, showing how it's formatted. When you're done editing, press the `escape` key (usually at the top left of your keyboard) to see the text go back to its normal look.\n",
        "\n",
        "Text cells use something called `markdown` to make the text look nice (like making words italic or bold). You don't need to learn `markdown` right now, but if you're curious, Google has a [markdown\n",
        "guide](/notebooks/markdown_guide.ipynb) for it. Remember: If you accidentally double-click a text cell, just press `esc` to put it back!\n",
        "\n"
      ]
    },
    {
      "cell_type": "markdown",
      "metadata": {
        "id": "KR921S_OQSHG"
      },
      "source": [
        "## Now, over to Code Cells\n",
        "The text you're reading now is about the `code cell` you'll see next. To run code, your computer in the cloud needs to be ready. Look at the top right of this window. If you see ![smallerram.jpg](data:image/jpeg;base64,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) appears, you're set. If ![CleanShot 2022-06-25 at 10.08.26@2x.png](data:image/png;base64,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) appears, click it to start up your cloud computer. Once the toolbar button at the top of the page shows the RAM and Disk, it's ready! Click inside the code cell below to select it. Then, run the code (yay!) just one cell at a time using the **Play icon** in the left gutter of the cell, **or alternatively, you can run it by clicking shift+return.** Cells with outputs (like this one) display the output right underneath.\n",
        "\n",
        "When using code cells, read all text that appears after the `#` symbols. These are `comments` and explain the code being used.\n"
      ]
    },
    {
      "cell_type": "code",
      "execution_count": null,
      "metadata": {
        "id": "dikNbnMhkGLH"
      },
      "outputs": [],
      "source": [
        "# This is a comment in a code cell, not code. The \"#\" here stops this line from being executed.\n",
        "# The code below creates the variable 'a' using the python language and assigns it the value of 5.\n",
        "# The next line prints the output value of ` a x a `. The printout appears in the output field below this cell.\n",
        "# Change 'a' to another number and run this cell again, programmer!\n",
        "# Oh, and don't be worried. You're not learning to program. What you'll learn to do, like simply\n",
        "# changing that 'a' value, is how to modify existing code for new data sets!\n",
        "\n",
        "a = 5\n",
        "\n",
        "print(a * a)"
      ]
    },
    {
      "cell_type": "markdown",
      "metadata": {
        "id": "vhP7XthF34sx"
      },
      "source": [
        "# Ready! So... how do we get our dataset into our cloud computer?\n",
        "\n",
        "The approach coded below will retrieve a CSV (comma separated values) data file from an Internet location. In the \"Optional for Reference\" section of this notebook down below are other options including importing from a local file on your computer or files saved in Excel format.\n",
        "\n",
        "[Here](https://hbiostat.org/data/repo/diabetes.html) is information on the dataset we're using.\n",
        "\n"
      ]
    },
    {
      "cell_type": "code",
      "execution_count": null,
      "metadata": {
        "id": "fmJEfaem34sx"
      },
      "outputs": [],
      "source": [
        "# Our cloud computer needs a tool to retrieve and \"read\" a dataset.\n",
        "# A great tool for retrieving spreadsheets of data is a python package called Pandas.\n",
        "# The code below installs Pandas on our computer and gives it a shortcut name, 'pd', since we always want to save keystrokes!\n",
        "import pandas as pd\n",
        "\n",
        "# If the file containing your dataset is on a public website, the following 2 steps are used. (Yes, only 2!!)\n",
        "# Pandas can interpret a variety of file types including CSV (comma separate values), Excel, and even tables on website!\n",
        "# First, let's enter the website address for our sample CSV file that has data for patients with and without diabetes:\n",
        "website = 'https://raw.githubusercontent.com/DrDavidL/dhds/main/predictdm.csv'\n",
        "\n",
        "# OK - now Pandas needs to \"read\" the CSV file and save it on your cloud computer.\n",
        "# We use the \"read\" command from Pandas (remember we use our shortcut \"pd\").\n",
        "# Pandas stores the data inside a \"dataframe\" file. This is like an accordion of Excel\n",
        "# spreadsheets. Here, we use just one layer, the equivalent of one spreadsheet.\n",
        "# Let's name our diabetes dataframe \"diabetes_df\".\n",
        "diabetes_df = pd.read_csv(website)\n",
        "\n",
        "# Let's view the first few rows to make sure it worked!\n",
        "# Using \".head()\" will reveal the first 5 rows!\n",
        "diabetes_df.head()"
      ]
    },
    {
      "cell_type": "markdown",
      "metadata": {
        "id": "RsoIRvrjwXJY"
      },
      "source": [
        "# Let's take a peek at the data!\n",
        "Now that the data is on our cloud computer in the `diabetes_df` dataframe, let's get a quick summary of what's inside.\n",
        "The `describe` function reveals:\n",
        "\n",
        "> count: The number of values.  \n",
        "> mean: The mean average for items in the column.   \n",
        "> std: The standard deviation for the column.   \n",
        "> min: The lowest value for the column.   \n",
        "> 25%: The 1st quartile break point.  \n",
        "> 50%: The 2nd quartile break point.    \n",
        "> 75%: The 3rd quartile break point.     \n",
        "> max: The highest value for the column.   \n",
        "\n",
        "Run the cell below. Look across the mean values; do they seem reasonable for things like age or weight? Look at the counts; are they the same for each column, or is some data missing?"
      ]
    },
    {
      "cell_type": "code",
      "execution_count": null,
      "metadata": {
        "id": "7z986E_awi5b"
      },
      "outputs": [],
      "source": [
        "# By default, only numerical values are displayed. Using (include= 'all') ensures categories like Gender and Diabetes are included.\n",
        "diabetes_df.describe(include='all')"
      ]
    },
    {
      "cell_type": "code",
      "execution_count": null,
      "metadata": {
        "id": "UgVXgBNGvWnb"
      },
      "outputs": [],
      "source": [
        "# A picture is worth a thousand words... so let's load our plotting packages and setting:\n",
        "\n",
        "# Importing the plotting libraries: Matplotlib and Seaborn.\n",
        "# Matplotlib is a widely-used plotting library in Python, which provides extensive functionality for creating static, animated, and interactive visualizations.\n",
        "# Seaborn is built on top of Matplotlib and provides a high-level interface for drawing attractive and informative statistical graphics.\n",
        "\n",
        "import matplotlib.pyplot as plt\n",
        "import seaborn as sns\n",
        "\n",
        "# Setting the visual theme for Seaborn plots.\n",
        "# Seaborn offers several themes: 'darkgrid', 'whitegrid', 'dark', 'white', and 'ticks'.\n",
        "# 'darkgrid' adds a grey background with grid lines, making the plots more readable.\n",
        "\n",
        "sns.set_theme(style=\"darkgrid\")"
      ]
    },
    {
      "cell_type": "code",
      "execution_count": null,
      "metadata": {
        "id": "4jrpd7RgrTFA"
      },
      "outputs": [],
      "source": [
        "# Now let's create a histogram from our dataset!\n",
        "# Try replacing \"Age\" below with other column names and re-run this cell,\n",
        "# e.g., \"Cholesterol\", \"Gender\", \"Diabetes\", \"Weight\", \"Glucose\", or others.\n",
        "\n",
        "# Creating a histogram using Seaborn's histplot function.\n",
        "# A histogram is a way to visualize the distribution of a single numerical variable.\n",
        "# Here, we are plotting the distribution of the \"Age\" column from the dataframe 'diabetes_df'.\n",
        "\n",
        "sns.histplot(diabetes_df, x=\"Age\") # 'x=\"Age\"' indicates that the \"Age\" column is plotted on the x-axis.\n",
        "plt.show() # plt.show() displays the plot."
      ]
    },
    {
      "cell_type": "code",
      "execution_count": null,
      "metadata": {
        "id": "Vlo5kR-8klAo"
      },
      "outputs": [],
      "source": [
        "# But wait... aren't we interested in comparing patients with and without diabetes?\n",
        "# Let's run this cell and compare the two groups in one graph\n",
        "# Note how the \"No diabetes\" patients have a younger distribution.\n",
        "# Try swapping out the \"Age\" value again!\n",
        "\n",
        "#'hue=\"Diabetes\"' instructs Seaborn to color-code the bars based on the values in the \"Diabetes\" column.\n",
        "# This allows us to compare the distribution of \"Age\" between patients with and without diabetes.\n",
        "sns.histplot(data=diabetes_df, x=\"Age\", hue=\"Diabetes\")\n",
        "plt.show()"
      ]
    },
    {
      "cell_type": "markdown",
      "metadata": {
        "id": "JV-K-q4XLuZt"
      },
      "source": [
        "# Done with Part 1!\n",
        "You've successfully loaded data and created your first plots! Great job!\n",
        "Please complete this [form](https://colab.research.google.com/corgiredirector?site=https%3A%2F%2Fbit.ly%2Ffsmcolab1survey).\n",
        "\n",
        "Check out [Part 2](https://colab.research.google.com/drive/1hyhmDkbkviJSnAqeErih9vSIQimKz6Yp?usp=sharing) and [Part 3](https://colab.research.google.com/drive/1q57zC0qnl9vE0jPndlOI6FUoVi6umH2M?usp=sharing)"
      ]
    },
    {
      "cell_type": "markdown",
      "metadata": {
        "id": "2Net6rMgi6hw"
      },
      "source": [
        "# OPTIONAL and for REFERENCE\n",
        "\n",
        "This next section is here if you're curious about other ways to get data into your notebook. You don't need to do this part now, but it can be helpful later.\n",
        "\n",
        "If you'd like to save this notebook for future use, use the `File` menu at the top left and select \"Save a copy in Drive\". This puts your own version in your Google Drive.\n",
        "\n",
        "The cells below show you how to:\n",
        "\n",
        "1. Upload a file directly from your computer.\n",
        "2. Read data from an Excel file found on the web.\n",
        "3. Read a table from a website (like Wikipedia!).\n",
        "4. Read a Google Sheets file from your Google Drive."
      ]
    },
    {
      "cell_type": "markdown",
      "metadata": {
        "id": "eY0_F2pr_aCl"
      },
      "source": [
        "# What if the data is on your own computer?\n",
        "What if you have a file on your computer you'd like to upload? If you downloaded the CSV file earlier, you can use that one. Or, use any CSV file you have to try this. When running the cell below, you'll be prompted to select the file. Of course NO PHI. This data is exposed and unencryted on your Colab computer so only [public data](https://datasetsearch.research.google.com/) should be used here. There are secure Colab-like environments (locally installed JupyterLab or Visual Studio Code, e.g.), that can be used and work very similarly!"
      ]
    },
    {
      "cell_type": "code",
      "execution_count": null,
      "metadata": {
        "id": "UJTKLzNR9CLP"
      },
      "outputs": [],
      "source": [
        "# The steps in this cell will provide you with a button to upload a file to Colab. Again, NO PHI.\n",
        "# The next cell will read the data into a dataframe using the name of your file.\n",
        "# Note, after running this cell, the notebook will wait until a file is uploaded and not\n",
        "# execute any other cell. You can choose the cancel button OR \"Runtime | Interrupt Execution\" to stop the cell.\n",
        "\n",
        "# Importing the 'files' module from google.colab to handle file uploads.\n",
        "from google.colab import files\n",
        "\n",
        "# Using the 'files.upload()' function to display a file upload dialog for the user.\n",
        "uploaded = files.upload()\n",
        "\n",
        "# Iterating over the uploaded files and printing details for each file.\n",
        "for fn in uploaded.keys():\n",
        "  print('User uploaded file \"{name}\" with length {length} bytes'.format(\n",
        "      name=fn, length=len(uploaded[fn]))) # print file name ('fn') and its size in bytes ('len(uploaded[fn])')."
      ]
    },
    {
      "cell_type": "code",
      "execution_count": null,
      "metadata": {
        "id": "PB0fUp2YAmnj"
      },
      "outputs": [],
      "source": [
        "# Assuming you just uploaded a CSV file, replace the \"yourfilename\" below with the name of your CSV file.\n",
        "# The 2 commands below are \"commented out\" with the \"#\" to avoid error messages. After you update\n",
        "# 'yourfilename.csv', then remove the '#\" before those two lines to run the code.\n",
        "\n",
        "# stored_data = pd.read_csv('yourfilename.csv')\n",
        "# stored_data.head()"
      ]
    },
    {
      "cell_type": "markdown",
      "metadata": {
        "id": "d3769zzl5Ewv"
      },
      "source": [
        "## What if the data is an Excel file?\n",
        "What if the data was in Excel format? You can convert it to CSV format, or Pandas can import it directly from Excel with these code examples:"
      ]
    },
    {
      "cell_type": "code",
      "execution_count": null,
      "metadata": {
        "id": "K1AohtP25WU4"
      },
      "outputs": [],
      "source": [
        "import pandas as pd\n",
        "\n",
        "# Now, our 2 steps if the format is in Excel.\n",
        "# Note, we have a new link for the Excel file and the command uses 'excel' instead of 'csv'.\n",
        "\n",
        "website = 'https://github.com/DrDavidL/dhds/blob/main/predictdm.xlsx?raw=true'\n",
        "stored_data = pd.read_excel(website) # Read in excel file directly using pandas\n",
        "\n",
        "# Now, let's make sure it works\n",
        "# You'll see some subtle differences in that all numbers are interpreted as \"floats\" with decimal points versus some as integers from the CSV file.\n",
        "# We'll clarify this in another session.\n",
        "\n",
        "stored_data.head()"
      ]
    },
    {
      "cell_type": "code",
      "execution_count": null,
      "metadata": {
        "id": "XuGE3NRJoGrz"
      },
      "outputs": [],
      "source": [
        "# One further trick - what if you have multiple worksheets in your Excel file?\n",
        "\n",
        "# Just load the worksheet of interest into the dataframe:\n",
        "# Don't forget to remove the \"#\" to make the code executable.\n",
        "# df = pd.read_excel(file_name, sheet_name=\"house\") # Change sheet_name to your interest"
      ]
    },
    {
      "cell_type": "markdown",
      "metadata": {
        "id": "QPkxnM4O7kYo"
      },
      "source": [
        "## What if the data is in a Wikipedia (or other website) table?\n",
        "\n",
        "What if the data is on a table on a website? Let's use a Wikipedia example that includes COVID-19 cases and death rates. See below:"
      ]
    },
    {
      "cell_type": "code",
      "execution_count": null,
      "metadata": {
        "id": "hr4ysslN8Ty4"
      },
      "outputs": [],
      "source": [
        "website = 'https://en.wikipedia.org/wiki/COVID-19_pandemic_death_rates_by_country'\n",
        "\n",
        "stored_data = pd.read_html(website) # Read in html directly using pandas\n",
        "\n",
        "# Sometimes websites have more than one table. The 'read' command we used\n",
        "# pulled each of them into distinct layers of our dataframe. To select and print the layer we want,\n",
        "# (numbering starts at zero), we use '1' to select the 2nd table describing cases and deaths from COVID-19.\n",
        "\n",
        "stored_data[1].head() # Example showing the head of the second table from the Wikipedia page"
      ]
    },
    {
      "cell_type": "markdown",
      "metadata": {
        "id": "4ffNy3B1p6L6"
      },
      "source": [
        "## What if your spreadsheet is in your Google Drive?"
      ]
    },
    {
      "cell_type": "code",
      "execution_count": null,
      "metadata": {
        "id": "JMk1mck_cugC"
      },
      "outputs": [],
      "source": [
        "# You might think it would be easier to read a Google Sheets spreadsheet into Pandas...\n",
        "# But, there are a few extra lines of code, mainly to ensure your credentials are OK\n",
        "# to access the file. Then, there is a specific tool, gspread, that uses your credentials to read\n",
        "# the Google Sheets file. Here we just get our cloud computer ready to read the Google Sheets file.\n",
        "# This same code can be used on your own account without change!\n",
        "# You'll be prompted when running the code to give yourself access to your Google Drive.\n",
        "\n",
        "from google.colab import auth  # Imports the 'auth' module from the Google Colab library.\n",
        "auth.authenticate_user()  # Authenticates the user's credentials for accessing Google services.\n",
        "from google.auth import default  # Imports the 'default' function from the 'google.auth' library.\n",
        "\n",
        "# Using the 'default' function to obtain the credentials required for authorization.\n",
        "creds, _ = default()\n",
        "\n",
        "# Here's the \"gspread' tool for reading Google Sheets files and our authorization of that tool on our Google Drive files.\n",
        "import gspread  # Imports the 'gspread' library for working with Google Sheets.\n",
        "gc = gspread.authorize(creds)  # Authorizes 'gspread' using the obtained credentials to access Google Drive files.\n"
      ]
    },
    {
      "cell_type": "code",
      "execution_count": null,
      "metadata": {
        "id": "fevpaSO4YWfZ"
      },
      "outputs": [],
      "source": [
        "# Now, we open the Google Sheets file named here, 'predictdm' on my Google Drive.\n",
        "# You'd remove the comment \"#\" symbol and replace with the name of your own file.\n",
        "#spreadsheet = gc.open('predictdm')\n",
        "\n",
        "# Here we enter the name of the specific worksheed we'd like to use. This was the name of my worksheet.\n",
        "#wks = spreadsheet.worksheet('predictdm.csv')\n",
        "\n",
        "# Here we extract all values and also the column headers:\n",
        "#data = wks.get_all_values() # Retrieves all the data from the specified worksheet ('wks') in the form of a list of lists.\n",
        "#headers = data.pop(0) # Extracts the first inner list from 'data', which typically contains the column headers or names.\n",
        "\n",
        "# Here we move these values into a dataframe, finally:\n",
        "#df = pd.DataFrame(data, columns=headers) # Creates a pandas DataFrame ('df') from the extracted data.\n",
        "\n",
        "# See? It looks the same:\n",
        "#df.head()\n"
      ]
    },
    {
      "cell_type": "markdown",
      "metadata": {
        "id": "VdLuPJHa2IRD"
      },
      "source": [
        "Content authored by David Liebovitz, MD.\n",
        "Approaches and annotations were modified from Pandas, Colab, and gspread sources below. Any errors are mine alone. Additional code updates and comments contributed by Xinyang Zhou, Northwestern Univ.\n",
        "\n",
        "https://pandas.pydata.org/\n",
        "\n",
        "https://colab.research.google.com/notebooks/markdown_guide.ipynb\n",
        "\n",
        "https://docs.gspread.org/en/v5.4.0/#\n",
        "\n",
        "\n",
        "\n"
      ]
    }
  ],
  "metadata": {
    "colab": {
      "provenance": [],
      "generative_ai_disabled": true,
      "private_outputs": true,
      "include_colab_link": true
    },
    "kernelspec": {
      "display_name": "Python 3",
      "name": "python3"
    },
    "language_info": {
      "name": "python"
    }
  },
  "nbformat": 4,
  "nbformat_minor": 0
}