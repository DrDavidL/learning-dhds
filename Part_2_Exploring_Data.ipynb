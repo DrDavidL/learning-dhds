{
  "nbformat": 4,
  "nbformat_minor": 0,
  "metadata": {
    "kernelspec": {
      "display_name": "Python 3",
      "name": "python3"
    },
    "language_info": {
      "codemirror_mode": {
        "name": "ipython",
        "version": 3
      },
      "file_extension": ".py",
      "mimetype": "text/x-python",
      "name": "python",
      "nbconvert_exporter": "python",
      "pygments_lexer": "ipython3",
      "version": "3.7.7"
    },
    "pycharm": {
      "stem_cell": {
        "cell_type": "raw",
        "metadata": {
          "collapsed": false
        },
        "source": []
      }
    },
    "toc": {
      "base_numbering": 1,
      "nav_menu": {},
      "number_sections": true,
      "sideBar": true,
      "skip_h1_title": false,
      "title_cell": "Table of Contents",
      "title_sidebar": "Contents",
      "toc_cell": false,
      "toc_position": {},
      "toc_section_display": true,
      "toc_window_display": false
    },
    "varInspector": {
      "cols": {
        "lenName": 16,
        "lenType": 16,
        "lenVar": 40
      },
      "kernels_config": {
        "python": {
          "delete_cmd_postfix": "",
          "delete_cmd_prefix": "del ",
          "library": "var_list.py",
          "varRefreshCmd": "print(var_dic_list())"
        },
        "r": {
          "delete_cmd_postfix": ") ",
          "delete_cmd_prefix": "rm(",
          "library": "var_list.r",
          "varRefreshCmd": "cat(var_dic_list()) "
        }
      },
      "types_to_exclude": [
        "module",
        "function",
        "builtin_function_or_method",
        "instance",
        "_Feature"
      ],
      "window_display": false
    },
    "colab": {
      "provenance": [],
      "generative_ai_disabled": true,
      "private_outputs": true,
      "include_colab_link": true
    }
  },
  "cells": [
    {
      "cell_type": "markdown",
      "metadata": {
        "id": "view-in-github",
        "colab_type": "text"
      },
      "source": [
        "<a href=\"https://colab.research.google.com/github/DrDavidL/learning-dhds/blob/main/Part_2_Exploring_Data.ipynb\" target=\"_parent\"><img src=\"https://colab.research.google.com/assets/colab-badge.svg\" alt=\"Open In Colab\"/></a>"
      ]
    },
    {
      "cell_type": "markdown",
      "metadata": {
        "id": "0cpUyiFUIGUC"
      },
      "source": [
        "\n",
        "\n",
        "- Authored: David Liebovitz, MD\n",
        "- Additional code updates and comments contributed by Xinyang(Oliver) Zhou, Northwestern University, and by Jay Manadan\n",
        "- Northwestern University Feinberg School of Medicine    \n",
        "- Feel free to use with attribution.  \n",
        "\n",
        "[GitHub Study Guide](https://github.com/DrDavidL/learning-dhds)\n",
        "\n",
        "# **Part 2**\n",
        "## *Exploring and Visualizing Datasets*\n",
        "\n",
        "\n",
        "Since you already know how these notebooks work, we'll quickly load up a dataset and begin. (If more explanation needed, click [here](https://colab.research.google.com/drive/1WlU9aOqW0lGGD2J5uiBBv13fGsIzUXg3?usp=sharing) to go back to part 1.)\n",
        "\n",
        "\n",
        "*The cells below will craft some layered graphs. In case any graph fails to display, run the cell again and it should work!*\n",
        "\n",
        "Our first step is to run the hidden code cell below. You can open it if you want! Don't worry about the details of this code for now, just make sure it runs.\n",
        "\n",
        "\n",
        "\n",
        "\n",
        "\n",
        "\n"
      ]
    },
    {
      "cell_type": "code",
      "metadata": {
        "ExecuteTime": {
          "end_time": "2019-06-16T14:44:50.874881Z",
          "start_time": "2019-06-16T14:44:38.616867Z"
        },
        "id": "CbVE99Ix34sv",
        "collapsed": true
      },
      "source": [
        "#@title\n",
        "# Be sure to run this critical first cell to import \"libaries\" and prepare our cloud computer!\n",
        "import pandas as pd  # Pandas for data manipulation and analysis.\n",
        "import copy  # Copy module for creating deep copies of objects.\n",
        "import numpy as np  # NumPy for numerical computations.\n",
        "from google.colab import data_table, output  # Google Colab utilities for interactive data tables and output management.\n",
        "output.enable_custom_widget_manager()  # Enables custom widget manager for interactive widgets.\n",
        "data_table.enable_dataframe_formatter()  # Enables dataframe formatter for data tables.\n",
        "\n",
        "# Some of the visualizing settings, too\n",
        "import matplotlib.pyplot as plt  # Matplotlib for basic plotting.\n",
        "import seaborn as sns  # Seaborn for statistical data visualization.\n",
        "import plotly  # Plotly for interactive and web-based visualizations.\n",
        "import plotly.express as px  # Plotly Express for easy and high-level interface to Plotly.\n",
        "import plotly.io as pio  # Plotly IO for managing rendering options.\n",
        "import ipywidgets as widgets  # IPython widgets for creating interactive user interfaces.\n",
        "from ipywidgets import interact  # Interact module for interactive widgets.\n",
        "\n",
        "\n",
        "# Options set here for setting views at a reasonable size\n",
        "# pd.options.display.max_columns = 50\n",
        "# pd.options.display.max_rows = 30\n",
        "# pio.renderers.default = \"colab\"\n",
        "# !pip install ipympl\n",
        "\n",
        "\n",
        "# Plotly options for color options\n",
        "palettes = [(\"Pastel\", px.colors.qualitative.Pastel1), # List of color palettes available in Plotly.\n",
        "            (\"Plotly\", px.colors.qualitative.Plotly),\n",
        "            (\"Alphabet\", px.colors.qualitative.Alphabet),\n",
        "            (\"Dark24\", px.colors.qualitative.Dark24),\n",
        "            (\"Vivid\", px.colors.qualitative.Vivid),\n",
        "            (\"Safe\", px.colors.qualitative.Safe),\n",
        "            ]\n"
      ],
      "execution_count": null,
      "outputs": []
    },
    {
      "cell_type": "markdown",
      "metadata": {
        "tags": [],
        "id": "vhP7XthF34sx"
      },
      "source": [
        "\n",
        "# Data import\n",
        "\n",
        "For Part 2, we'll stick with the same dataset:\n",
        "\n",
        "A public deidentified dataset sourced from University of Virginia studies by Dr. Robert Schorling of several hundred rural African American patients. Additional information on this data set is available here:   \n",
        "> https://hbiostat.org/data/repo/diabetes.html   \n",
        "\n",
        "We need to get this data from the internet into our notebook. The code below does that. It's essentially tells the computer where to find the data file and then brings it in."
      ]
    },
    {
      "cell_type": "code",
      "metadata": {
        "id": "fmJEfaem34sx"
      },
      "source": [
        "# Run this cell to reference the website that is holding the diabetes data in a CSV (comma separated values) file!\n",
        "website = \"https://drive.google.com/uc?export=download&id=1PQM8eQnQpaJwe9mAVb_XBpZoWoA5nTlM\"\n",
        "\n",
        "# The command below assigns the name dm_raw to the now read CSV file retrieved from the website!\n",
        "dm_raw = pd.read_csv(website)\n",
        "\n",
        "# Let's view 10 rows of data and enable sorting for the columns. Click column headers to get a feel for the max/min for columns.\n",
        "# What's the maximum SBP? Lowest HDL? Note the Filter option at the top right. Click and filter to see how many patients are over 85.\n",
        "\n",
        "data_table.DataTable(dm_raw, include_index=False, num_rows_per_page=10)\n",
        "# 'include_index=False' ensures that the index column is not displayed in the table.\n",
        "# 'num_rows_per_page=10' sets the number of rows displayed per page in the interactive table."
      ],
      "execution_count": null,
      "outputs": []
    },
    {
      "cell_type": "markdown",
      "metadata": {
        "id": "8c9xYUPF34sy"
      },
      "source": [
        "# Tidy Datasets!!!\n",
        "\n",
        "For a little reminder context, the data from the CSV file was \"read into\" a Pandas dataframe. A dataframe is like an Excel worksheet - and capable of more than \"x\" and \"y\" dimensions. Think of stacks of worksheets. Here, the dataframe is just one layer: the CSV file we imported.\n",
        "\n",
        "\n",
        "When we look at our data, we can see it's organized neatly. This is called \"tidy data.\" It means:\n",
        "\n",
        "- Each column is a type of information (like Age, or Blood Pressure).\n",
        "- Each row is a single person's information.\n",
        "- Each box (cell) has just one piece of information.\n",
        "Having [tidy data](https://www.jstatsoft.org/article/view/v059i10) makes it much easier to work with and analyze!\n",
        "\n",
        "We want to make sure the computer understands what kind of information is in each column. Is it a number, or text? The code below checks this for us. [Tools exist](https://github.com/pwwang/datar) to convert messy datasets to Tidy Data format, too!\n",
        "\n",
        "Once your own dataset is tidy, feel free to re-use any code below with tweaks to select the right columns and other parameters.\n",
        "\n",
        "While Pandas (the routine that \"reads\" the CSV file) usually interprets the type of data correctly, let's make sure all values are recognized as integers (`int64`) or decimal values (`float64`) and that categories like diabetes are recognized as an `object`:"
      ]
    },
    {
      "cell_type": "code",
      "metadata": {
        "id": "BH5cTOoR34sz"
      },
      "source": [
        "# The \".dtypes\" command will show us the data types for each column of data in our Tidy dataset now stored as a Pandas dataframe:\n",
        "\n",
        "dm_raw.dtypes.sort_values(ascending=False) # ascending=False is equal to descending"
      ],
      "execution_count": null,
      "outputs": []
    },
    {
      "cell_type": "markdown",
      "metadata": {
        "id": "o_nMpU91zfb1"
      },
      "source": [
        "The data types were recognized perfectly! Numbers are recognized as numbers, and text categories like 'Gender' are recognized as text.\n",
        "\n",
        "## Quick Look at the Numbers\n",
        "\n",
        "We can get a summary of the numbers in our Pandas dataframe very quickly. The describe() command does this."
      ]
    },
    {
      "cell_type": "code",
      "metadata": {
        "id": "g5WuFjv7lvvu"
      },
      "source": [
        "# We'll start just with numerical data first and round to one decimal point, too.\n",
        "\n",
        "dm_raw.describe().round(1) # Round to only 1 decimal place"
      ],
      "execution_count": null,
      "outputs": []
    },
    {
      "cell_type": "markdown",
      "metadata": {
        "id": "3czL5ep5nQ1e"
      },
      "source": [
        "Here's what those numbers mean:\n",
        "\n",
        "> `count`: How many entries there are in that column.   \n",
        "> `mean`: The average value.   \n",
        "> `std`: The standard deviation for the values in the column.   \n",
        "> `25`%: The 25th percentile value.   \n",
        "> `50`%: The 50th percentile value.   \n",
        "> `75`%: The 75th percentile value.   \n",
        "> `min`: The lowest value for the column.   \n",
        "> `max`: The highest value for the column.   \n",
        "\n",
        "\n",
        "This summary tells us several interesting things   \n",
        "\n",
        "> - There are 390 rows (unique patients) and no data is missing. (390 across the board.)    \n",
        "> - The mean fasting glucose  is 107, although the max is 385.\n",
        "> - The mean age is 46.8 and the oldest person is 92.\n",
        "> - The mean BMI is 28.8, max is 55.8 and min is 15.2.\n",
        "\n",
        "## Quick Look at the Categories\n",
        "\n",
        "Now let's look at the columns with text, like 'Gender' and 'Diabetes'."
      ]
    },
    {
      "cell_type": "code",
      "source": [
        "# The 'object' setting retrieves the categorical columns.\n",
        "\n",
        "dm_raw.describe(include='object')"
      ],
      "metadata": {
        "id": "yeo8itQ5rM9s"
      },
      "execution_count": null,
      "outputs": []
    },
    {
      "cell_type": "markdown",
      "metadata": {
        "id": "WcIC8jtEn-gu"
      },
      "source": [
        "Here's what these terms mean for text columns:\n",
        "> `unique`: How many different types of values are there (like \"Male\" and \"Female\").    \n",
        "> `top`: The most frequent value present.    \n",
        "> `freq`: How many times the 'top' value appears.    \n",
        "\n",
        "So most subjects are women 228/390 and most do NOT have diabetes 330/390."
      ]
    },
    {
      "cell_type": "markdown",
      "metadata": {
        "id": "4tS98h2OUa0b"
      },
      "source": [
        "Cleaning Up Column Names       \n",
        "   \n",
        "Sometimes, column names have spaces or special characters that can make things a little tricky. Let's create a clean copy of our data with easier-to-use names.   \n",
        "Let's leave our \"raw\" dataframe intact and copy our dataset into a new dataframe, `dm_clean` with cleaned up column headers."
      ]
    },
    {
      "cell_type": "code",
      "metadata": {
        "id": "XkiOGcaKHA26"
      },
      "source": [
        "# These commands copy our original data into a new \"clean\" dataframe!\n",
        "\n",
        "# 'copy.deepcopy(dm_raw.values)' creates a deep copy of the data values to ensure the original data remains unchanged.\n",
        "dm_clean = pd.DataFrame(columns = dm_raw.columns, data = copy.deepcopy(dm_raw.values))\n",
        "\n",
        "# This helps in correcting any misassigned data types, making the DataFrame more suitable for analysis.\n",
        "dm_clean = dm_clean.infer_objects()\n",
        "\n",
        "# Now, let's remove all the spaces from column names and replace then with an underscore.\n",
        "dm_clean.columns = [c.replace(' ', '_') for c in dm_clean.columns]\n",
        "\n",
        "# Now let's do the same thing for the /'s in any column names.)\n",
        "dm_clean.columns = [c.replace('/', '_') for c in dm_clean.columns]\n",
        "\n",
        "# Let's check out the new names:\n",
        "dm_clean.dtypes.sort_values(ascending=False)"
      ],
      "execution_count": null,
      "outputs": []
    },
    {
      "cell_type": "markdown",
      "metadata": {
        "id": "RHFoECKGV0XZ"
      },
      "source": [
        "Now our column names are nice and clean!   \n",
        "   \n",
        "Making Pictures: Histograms       \n",
        "   \n",
        "Pictures can help us visualize our data! Let's start with a histogram. A histogram is a bar chart that shows us how often different values appear in a column."
      ]
    },
    {
      "cell_type": "code",
      "source": [
        "# These commands will make histograms for the numerical variables.\n",
        "# First we'll save all the column names in a sorted list for later use.\n",
        "all_columns = sorted([col for col in dm_clean.columns])\n",
        "\n",
        "# Here we'll save just the category columns, e.g., diabetes and gender, in a sorted list.\n",
        "cat_columns = sorted([col for col in dm_clean.columns if dm_clean[col].dtype == \"object\"])\n",
        "\n",
        "# Lastly, here we'll save the numerical column names, e.g., BMI, SBP, etc.\n",
        "num_columns = sorted([col for col in dm_clean.columns if dm_clean[col].dtype in [\"int64\", \"float\"]])\n",
        "\n",
        "# Creating a figure object for the histograms with a specified size.\n",
        "fig = plt.figure(figsize=(24, 15))\n",
        "i = 0  # Initializing variable\n",
        "\n",
        "# Looping through each numerical column to create individual histograms.\n",
        "for column in num_columns:\n",
        "    sub = fig.add_subplot(3, 5, i + 1)  # Adding a subplot to the figure.\n",
        "    dm_clean[column].plot(kind='hist', ax=sub)  # Plotting a histogram for the current column.\n",
        "\n",
        "    sub.set_xlabel(column)  # Setting the x-axis label to the column name.\n",
        "    sub.set_ylabel(\"Frequency\")  # Setting the y-axis label as \"Frequency\".\n",
        "    sub.set_title(f\"Histogram of {column}\")  # Adding a title for clarity.\n",
        "\n",
        "    i += 1  # Incrementing the subplot index.\n",
        "\n",
        "plt.tight_layout()  # Adjust layout to prevent overlapping labels.\n",
        "plt.show()  # Display the plots.\n"
      ],
      "metadata": {
        "id": "B53SuAR0FcNk"
      },
      "execution_count": null,
      "outputs": []
    },
    {
      "cell_type": "markdown",
      "source": [
        "## Zooming in on Histograms\n",
        "\n",
        "That was a lot of histograms at once! Let's make an interactive one so we can look at one column at a time and even change the colors. If it doesn't show up the first time, just run the code cell again."
      ],
      "metadata": {
        "id": "CBLWf0OJI4QX"
      }
    },
    {
      "cell_type": "code",
      "source": [
        "# But wait - you code gurus know there must be a better way to update this for each data element.\n",
        "# And, isn't this supposed to be interactive? So - The code below creates a dropdown menu for selecting a column.\n",
        "\n",
        "# To start, let's make a dropdown widget using all the columns, and set the initial drop-down to Age\n",
        "dd1_all = widgets.Dropdown(\n",
        "    options=all_columns,  # List of all column names for the dropdown options\n",
        "    description='Features:',  # Label for the dropdown widget\n",
        "    value='Age',  # Initial value selected in the dropdown\n",
        "    disabled=False,  # Dropdown is enabled and interactive\n",
        ")\n",
        "\n",
        "# This next little widget lets us modify the colors.\n",
        "w_colors_1 = widgets.Dropdown(\n",
        "    options=palettes,  # List of color palettes for the dropdown options\n",
        "    description='Colors:',  # Label for the dropdown widget\n",
        "    value=px.colors.qualitative.Pastel1,  # Initial value selected in the dropdown\n",
        "    disabled=False,  # Dropdown is enabled and interactive\n",
        ")\n",
        "\n",
        "# Let's define the histogram function that \"draws\" our graph and takes column data and the color options as inputs.\n",
        "def draw_histplot(column, palette):\n",
        "    # Create a histogram using Plotly Express, with the selected column and color palette\n",
        "    fig = px.histogram(dm_clean, x=column, width=800, height=400, color_discrete_sequence=palette)\n",
        "    # Update the layout of the histogram, setting the title and bar gap\n",
        "    fig.update_layout(bargap=0.1, title_text=\"Histogram for \" + column)\n",
        "    # Display the histogram\n",
        "    fig.show()\n",
        "\n",
        "# Finally, let's display the interactive graph!\n",
        "# Check out the various distributions by changing the dropdown!\n",
        "# 'interact' creates an interactive widget that calls 'draw_histplot' whenever a dropdown value changes\n",
        "interact(draw_histplot, column=dd1_all, palette=w_colors_1);\n"
      ],
      "metadata": {
        "id": "w-LCc4TzuahQ"
      },
      "execution_count": null,
      "outputs": []
    },
    {
      "cell_type": "markdown",
      "source": [
        "Now you can pick a column from the \"Features\" dropdown and see its histogram. Try hovering your mouse over the bars to see how many people fall into that range of values!\n",
        "\n",
        "Comparing Groups with Histograms\n",
        "\n",
        "What if we want to see how a column's values differ between groups, like people with and without diabetes? We can add another dropdown to split the histogram by category"
      ],
      "metadata": {
        "id": "UdmmXleK_Yoj"
      }
    },
    {
      "cell_type": "code",
      "source": [
        "# First, let's make another dropdown for just the categorical values, i.e., diabetes and gender!\n",
        "# We can't just use the same one since it would update other cells in this notebook.\n",
        "\n",
        "# Creating a RadioButtons widget for selecting categorical columns (e.g., Diabetes, Gender).\n",
        "# Initial value is set to 'Diabetes'.\n",
        "dd2_categ = widgets.RadioButtons(\n",
        "    options=cat_columns,  # List of categorical column names for the radio buttons\n",
        "    description='Groups:',  # Label for the radio buttons widget\n",
        "    value='Diabetes',  # Initial value selected in the radio buttons\n",
        "    disabled=False,  # Radio buttons are enabled and interactive\n",
        ")\n",
        "\n",
        "# Next, let's add a new dropdown with all the columns.\n",
        "\n",
        "# Creating a Dropdown widget for selecting any column from 'all_columns'.\n",
        "# Initial value is set to 'Age'.\n",
        "dd3_all = widgets.Dropdown(\n",
        "    options=all_columns,  # List of all column names for the dropdown options\n",
        "    description='Features:',  # Label for the dropdown widget\n",
        "    value='Age',  # Initial value selected in the dropdown\n",
        "    disabled=False,  # Dropdown is enabled and interactive\n",
        ")\n",
        "\n",
        "# OK - now we'll add color options again.\n",
        "\n",
        "# Creating another Dropdown widget for selecting color palettes.\n",
        "# Initial value is set to 'Pastel1'.\n",
        "w_colors_2 = widgets.Dropdown(\n",
        "    options=palettes,  # List of color palettes for the dropdown options\n",
        "    description='Colors:',  # Label for the dropdown widget\n",
        "    value=px.colors.qualitative.Pastel1,  # Initial value selected in the dropdown\n",
        "    disabled=False,  # Dropdown is enabled and interactive\n",
        ")\n",
        "\n",
        "# Define the new histogram function.\n",
        "\n",
        "# Defining the function to draw a stacked histogram.\n",
        "# This function takes 'hue' (categorical column), 'column' (numerical column), and 'palette' (color palette) as inputs.\n",
        "def draw_histplot2(hue, column, palette):\n",
        "    # Create a stacked histogram using Plotly Express, with the selected column and hue, and color palette.\n",
        "    fig = px.histogram(dm_clean, x=column, color=hue, width=800, height=400, color_discrete_sequence=palette)\n",
        "    # Update the layout of the histogram, setting the title and bar gap.\n",
        "    fig.update_layout(bargap=0.1, title_text=\"Stacked Histogram for \" + column + \" and Presence of \" + hue)\n",
        "    # Display the histogram.\n",
        "    fig.show()\n",
        "\n",
        "# Display the interactive graph!\n",
        "# 'interact' creates an interactive widget that calls 'draw_histplot2' whenever a dropdown or radio button value changes.\n",
        "interact(draw_histplot2, hue=dd2_categ, column=dd3_all, palette=w_colors_2);\n",
        "\n",
        "# Run this cell and compare \"Features\" for patients with/without diabetes and then again after choosing the Gender option.\n",
        "# See if the respective height distributions for males and females make sense.\n",
        "# (Run this cell again if it doesn't initially display a graph below!)"
      ],
      "metadata": {
        "id": "n5rTZKQWNVgw"
      },
      "execution_count": null,
      "outputs": []
    },
    {
      "cell_type": "markdown",
      "source": [
        "Now you can choose a feature and a group (Diabetes or Gender) to see how the values are distributed within those groups. Hovering over the bars will show you the counts for each group\n",
        "\n",
        "\n"
      ],
      "metadata": {
        "id": "RyzwZZb2OEUs"
      }
    },
    {
      "cell_type": "markdown",
      "source": [
        "# Finding Relationships: Regression Lines   \n",
        "  \n",
        "We've seen how individual values are distributed. Now let's see if there are relationships between the numerical values. For example, does blood pressure tend to go up as people get older? We can use a regression line to visualize this. A regression line is a line that tries to show the trend between two sets of numbers.\n",
        "\n",
        "\n",
        "> **A regression line is designed to predict the \"y\" value for any \"x\" input!**\n",
        "\n",
        "Run the cell below and look at the relationships between features!\n",
        "Remember \"X features\" are typically independent, e.g., age, and \"Y features\" are dependent, i.e., what happens to the output for different inputs.\n",
        "\n",
        "We'll follow the same approach with a bird's eye view of several regression lines, and then \"zoom in\" with an interactive \"hover\" view for variables of interest. This will take a minute to run."
      ],
      "metadata": {
        "id": "R3o6Yp7wEKVQ"
      }
    },
    {
      "cell_type": "code",
      "source": [
        "# This single command creates color-coded plots for pairs of variables.\n",
        "\n",
        "# 'sns.pairplot' creates a grid of plots for each pair of specified variables.\n",
        "# The data is taken from 'dm_clean' DataFrame and includes the columns 'Age', 'Diabetes', 'Systolic_BP', 'Weight', 'Cholesterol', and 'HDL_Chol'.\n",
        "# 'kind=\"reg\"' specifies that the type of plot should be a regression plot.\n",
        "# 'hue=\"Diabetes\"' colors the points based on the 'Diabetes' column, allowing differentiation between patients with and without diabetes.\n",
        "# 'plot_kws={\"line_kws\":{\"color\":\"red\"}}' specifies additional keyword arguments for the plots, here setting the regression line color to red.\n",
        "\n",
        "sns.pairplot(dm_clean[['Age', 'Diabetes', 'Systolic_BP', 'Weight', 'Cholesterol', 'HDL_Chol']],\n",
        "             kind='reg',  # Use regression plots\n",
        "             hue='Diabetes',  # Color code based on the 'Diabetes' column\n",
        "             plot_kws={'line_kws':{'color':'red'}});  # Set the regression line color to red\n"
      ],
      "metadata": {
        "id": "cRJ82sJJPRgU"
      },
      "execution_count": null,
      "outputs": []
    },
    {
      "cell_type": "markdown",
      "source": [
        "This creates a lot of small plots showing the relationship between pairs of our selected numerical columns. The red line is the regression line. It helps us see if the numbers tend to go up or down together.\n",
        "\n",
        "Zooming In on Regression Lines (Interactive!)\n",
        "\n",
        "It's hard to see the details in that grid of plots. Let's make an interactive plot so we can pick two numerical columns and see the regression line clearly, separated by the diabetes group."
      ],
      "metadata": {
        "id": "VyQLUBEzTQcr"
      }
    },
    {
      "cell_type": "code",
      "source": [
        "# Let's define the regression graphing function in Plotly.\n",
        "\n",
        "# Defining the function to draw a regression plot.\n",
        "# This function takes 'x' (independent variable), 'y' (dependent variable), and 'palette' (color palette) as inputs.\n",
        "def draw_regplot(x, y, palette):\n",
        "    # Create a scatter plot with a regression line using Plotly Express.\n",
        "    # 'trendline=\"ols\"' adds an Ordinary Least Squares regression line.\n",
        "    fig = px.scatter(dm_clean, x=x, y=y, trendline=\"ols\", width=800, height=400, color='Diabetes', color_discrete_sequence=palette)\n",
        "    # Update the layout of the plot, setting the title.\n",
        "    fig.update_layout(title_text=\"Regression plot for \" + x + \" impacting \" + y + \" with/without Diabetes\")\n",
        "    # Display the plot using the Colab renderer.\n",
        "    fig.show(renderer=\"colab\")\n",
        "\n",
        "# The first dropdown menu is for the \"x\" features.\n",
        "\n",
        "# Creating a Dropdown widget for selecting the independent variable (x-axis) from numerical columns.\n",
        "# Initial value is set to 'Age'.\n",
        "dd3_x = widgets.Dropdown(\n",
        "    options=num_columns,  # List of numerical column names for the dropdown options\n",
        "    description='Independent:',  # Label for the dropdown widget\n",
        "    value='Age',  # Initial value selected in the dropdown\n",
        "    disabled=False,  # Dropdown is enabled and interactive\n",
        ")\n",
        "\n",
        "# The next dropdown is for the \"y\" features.\n",
        "\n",
        "# Creating a Dropdown widget for selecting the dependent variable (y-axis) from numerical columns.\n",
        "# Initial value is set to 'Systolic_BP'.\n",
        "dd4_y = widgets.Dropdown(\n",
        "    options=num_columns,  # List of numerical column names for the dropdown options\n",
        "    description='Dependent:',  # Label for the dropdown widget\n",
        "    value='Systolic_BP',  # Initial value selected in the dropdown\n",
        "    disabled=False,  # Dropdown is enabled and interactive\n",
        ")\n",
        "\n",
        "# Getting our color options ready again.\n",
        "\n",
        "# Creating another Dropdown widget for selecting color palettes.\n",
        "# Initial value is set to 'Plotly'.\n",
        "w_colors_3 = widgets.Dropdown(\n",
        "    options=palettes,  # List of color palettes for the dropdown options\n",
        "    description='Colors:',  # Label for the dropdown widget\n",
        "    value=px.colors.qualitative.Plotly,  # Initial value selected in the dropdown\n",
        "    disabled=False,  # Dropdown is enabled and interactive\n",
        ")\n",
        "\n",
        "# Display the interactive graph!\n",
        "# 'interact' creates an interactive widget that calls 'draw_regplot' whenever a dropdown value changes.\n",
        "interact(draw_regplot, x=dd3_x, y=dd4_y, palette=w_colors_3);\n",
        "\n",
        "# If the graph doesn't display at first, run the cell again!"
      ],
      "metadata": {
        "id": "MEYxI-t-EiWL"
      },
      "execution_count": null,
      "outputs": []
    },
    {
      "cell_type": "markdown",
      "source": [
        "Hover over a data point and you can see the individual values. Hover over the regression line and you can see the regression equation, the r-squared value, and the predicted y value for that x input.\n",
        "\n",
        "R-squared is a goodness-of-fit statistic for linear regression. It reveals to what extent variance in the dependent variable is explained by the independent variable and ranges between 0 and 1.\n",
        "\n",
        "Try these scenarios for our dataset (y = dependent):\n",
        "- What happens to SBP (y) as patients get older (x)? What is the r-squared?\n",
        "- What happens to cholesterol (y) as patients get older (x)?    \n",
        "- What happens to HDL (y) as weight goes up (x)?\n",
        "- What happens to weight (y) as patients get taller (x)?  \n",
        "- What happens to glucose (y) as weight increases (x)?"
      ],
      "metadata": {
        "id": "uc0VzNVqP6rE"
      }
    },
    {
      "cell_type": "markdown",
      "source": [
        "## Box Plots\n",
        "\n",
        "We saw how regression lines show relationships between numbers. How about comparing numerical values between categories? For example, is blood pressure generally higher for people with diabetes? A box plot is a great way to visualize this. It shows us the spread of data and the middle value (median) for different groups.  "
      ],
      "metadata": {
        "id": "lT2g1n1DdSt5"
      }
    },
    {
      "cell_type": "code",
      "source": [
        "# These commands configure all these box plots used to visualize numerical differences between groups.\n",
        "\n",
        "# Creating a new figure with specified size for multiple box plots.\n",
        "fig = plt.figure(figsize=(15, 20))\n",
        "\n",
        "# Looping through each numerical column to create individual box plots.\n",
        "for i in range(len(num_columns)):\n",
        "    column = num_columns[i]\n",
        "    # Adding a subplot for each box plot.\n",
        "    sub = fig.add_subplot(5, 3, i + 1)\n",
        "    # Creating a box plot using Seaborn's boxplot function.\n",
        "    sns.boxplot(x='Diabetes', y=column, data=dm_clean, notch=True)\n"
      ],
      "metadata": {
        "id": "wc3PA1TIC078"
      },
      "execution_count": null,
      "outputs": []
    },
    {
      "cell_type": "markdown",
      "source": [
        "This creates a series of box plots, each showing a numerical column compared between the 'Diabetes' and 'No Diabetes' groups."
      ],
      "metadata": {
        "id": "pZYYq_ubo1Y2"
      }
    },
    {
      "cell_type": "markdown",
      "source": [
        "## Zoomed in Box Plot\n",
        "\n",
        "Let's make an interactive box plot so we can look at one numerical column at a time and even split it by Gender as well."
      ],
      "metadata": {
        "id": "TF3oGn1VMGi0"
      }
    },
    {
      "cell_type": "code",
      "source": [
        "# Definiing the box plot!\n",
        "\n",
        "# Create another dropdown widget for selecting a numerical feature (e.g., glucose) for the box plot.\n",
        "dd7_num = widgets.Dropdown(\n",
        "    options=num_columns,  # List of numerical column names for the dropdown options\n",
        "    description='Feature:',  # Label for the dropdown widget\n",
        "    value='Glucose',  # Initial value selected in the dropdown\n",
        "    disabled=False,  # Dropdown is enabled and interactive\n",
        ")\n",
        "\n",
        "# This widget will create subgroups of categorical variables for more in-depth analysis.\n",
        "\n",
        "# Creating RadioButtons widget for selecting a subgrouping categorical variable (e.g., diabetes or gender).\n",
        "dd22_categ = widgets.RadioButtons(\n",
        "    options=cat_columns,  # List of categorical column names for the radio button options\n",
        "    description='Subgroup:',  # Label for the radio button widget\n",
        "    value='Diabetes',  # Initial value selected in the radio button\n",
        "    disabled=False,  # Radio button is enabled and interactive\n",
        ")\n",
        "\n",
        "# This widget just brings us the fun colors again.\n",
        "\n",
        "# Creating another Dropdown widget for selecting color palettes.\n",
        "# Initial value is set to 'Plotly'.\n",
        "w_colors_4 = widgets.Dropdown(\n",
        "    options=palettes,  # List of color palettes for the dropdown options\n",
        "    description='Colors:',  # Label for the dropdown widget\n",
        "    value=px.colors.qualitative.Plotly,  # Initial value selected in the dropdown\n",
        "    disabled=False,  # Dropdown is enabled and interactive\n",
        ")\n",
        "\n",
        "# Let's define the box plot function\n",
        "\n",
        "# Defining the function to create a box plot.\n",
        "# This function takes 'col' (numerical feature), 'categ' (subgrouping categorical variable), and 'palette' (color palette) as inputs.\n",
        "def show_box(col, categ, palette):\n",
        "    # Create a box plot using Plotly Express.\n",
        "    fig = px.box(dm_clean, x=categ, y=col, color=\"Diabetes\", notched=True, width=800, height=500, color_discrete_sequence=palette)\n",
        "    # Update the layout of the plot, setting the title.\n",
        "    fig.update_layout(title_text=\"Box plot for \" + categ + \" category and values of \" + col)\n",
        "    # Display the plot.\n",
        "    fig.show()\n",
        "\n",
        "# Display the interactive graph!\n",
        "\n",
        "# 'interact' creates an interactive widget that calls 'show_box' whenever a dropdown value changes.\n",
        "interact(show_box, col=dd7_num, palette=w_colors_4, categ=dd22_categ);\n"
      ],
      "metadata": {
        "id": "MsoTRnoCOXKc"
      },
      "execution_count": null,
      "outputs": []
    },
    {
      "cell_type": "markdown",
      "source": [
        "Now you can pick a \"Feature\" (numerical column) and a \"Subgroup\" (Diabetes or Gender). The box plot shows you::\n",
        "\n",
        "* The line in the middle of the box is the median (the middle value).    \n",
        "* The notch in the side of the box is the 95% confidence interval around the median value. If the notches for the two box plots do not overlap, (with some caveats), the median values appear to be significantly different for each of the groups (as for age, glucose, and SBP above)!\n",
        "* The whiskers (horizontal lines connected by a vertical line), include the remaining quartiles above and below the box.    \n",
        "* The scattered dots outside these last horizontal lines of the whiskers are considered outliers since they are very far from the median values. (More than 1.5 X the size of the box away the median value)   \n",
        "\n",
        "Try changing the subgroup to Gender to see how the numerical features compare between men and women, still separated by diabetes status.\n",
        "\n",
        "## Violin Plots\n",
        "\n",
        "Box plots are great, but sometimes we want to see the actual shape of the data's distribution. A violin plot is like a box plot, but it also shows the density of the data at different values. Think of it like a smoothed histogram on its side.\n",
        "\n"
      ],
      "metadata": {
        "id": "Ze0M50A-gQYK"
      }
    },
    {
      "cell_type": "code",
      "source": [
        "# Create another dropdown widget for selecting a numerical feature (e.g., glucose).\n",
        "dd8_num = widgets.Dropdown(\n",
        "    options=num_columns,  # List of numerical column names for the dropdown options\n",
        "    description='Feature:',  # Label for the dropdown widget\n",
        "    value='Glucose',  # Initial value selected in the dropdown\n",
        "    disabled=False,  # Dropdown is enabled and interactive\n",
        ")\n",
        "\n",
        "# Create a subgroup dropdown for additional analysis by gender stratification.\n",
        "\n",
        "# Creating RadioButtons widget for selecting a subgrouping categorical variable (e.g., diabetes or gender).\n",
        "dd23_categ = widgets.RadioButtons(\n",
        "    options=cat_columns,  # List of categorical column names for the radio button options\n",
        "    description='Subgroup:',  # Label for the radio button widget\n",
        "    value='Diabetes',  # Initial value selected in the radio button\n",
        "    disabled=False,  # Radio button is enabled and interactive\n",
        ")\n",
        "\n",
        "# Create an option to show all the datapoints in the dataset directly on the graph!\n",
        "\n",
        "# Creating RadioButtons widget for selecting whether to show all data points on the graph.\n",
        "datapoints = widgets.RadioButtons(\n",
        "    options=[('yes', 'all'), ('no', False)],  # Options for showing all points or not\n",
        "    description='Show points:',  # Label for the radio button widget\n",
        "    value=False,  # Initial value selected in the radio button\n",
        "    disabled=False,  # Radio button is enabled and interactive\n",
        ")\n",
        "\n",
        "# Add back our fun color options!\n",
        "\n",
        "# Creating another Dropdown widget for selecting color palettes.\n",
        "# Initial value is set to 'Dark24'.\n",
        "w_colors_5 = widgets.Dropdown(\n",
        "    options=palettes,  # List of color palettes for the dropdown options\n",
        "    description='Colors:',  # Label for the dropdown widget\n",
        "    value=px.colors.qualitative.Dark24,  # Initial value selected in the dropdown\n",
        "    disabled=False,  # Dropdown is enabled and interactive\n",
        ")\n",
        "\n",
        "# Let's define the violin plot function which takes our columns (features), palette (colors),\n",
        "# categories (gender/dm), and data points as inputs.\n",
        "\n",
        "# Defining the function to create a violin plot.\n",
        "# This function takes 'col' (numerical feature), 'palette' (color palette), 'categ' (subgrouping categorical variable), and 'points' (whether to show all data points) as inputs.\n",
        "def show_violin(col, palette, categ, points):\n",
        "    # Create a violin plot using Plotly Express.\n",
        "    fig = px.violin(dm_clean, x=categ, y=col, color=\"Diabetes\", box=True, points=points, width=800, height=500, color_discrete_sequence=palette)\n",
        "    # Update the layout of the plot, setting the title.\n",
        "    fig.update_layout(title_text=\"Violin Plot for Category of \" + categ + \" and Values for \" + col)\n",
        "    # Display the plot.\n",
        "    fig.show()\n",
        "\n",
        "# Display the interactive graph!\n",
        "\n",
        "# 'interact' creates an interactive widget that calls 'show_violin' whenever a dropdown value changes.\n",
        "interact(show_violin, col=dd8_num, palette=w_colors_5, categ=dd23_categ, points=datapoints);\n",
        "\n",
        "# Run the cell again if it doesn't show up at first!\n"
      ],
      "metadata": {
        "id": "NkaLZ9r8wDcj"
      },
      "execution_count": null,
      "outputs": []
    },
    {
      "cell_type": "markdown",
      "source": [
        "Violin plots give you a richer view of the data's distribution compared to just a box plot. You can see where the values are most concentrated (the wider parts of the violin).\n",
        "\n",
        "Quantifying Relationships: Correlation\n",
        "\n",
        "We've looked at visual relationships with regression lines and box plots. But can we put a number on how strongly two things are related? Yes, with correlation!\n",
        "\n",
        "To calculate correlation between a number and a category (like Glucose and Diabetes), we first need to turn the category into a number. We'll assign 0 to one category (like 'No Diabetes') and 1 to the other ('Diabetes')."
      ],
      "metadata": {
        "id": "GPbzYUboziAr"
      }
    },
    {
      "cell_type": "code",
      "source": [
        "\n",
        "\n",
        "\n",
        "# Identifying binary categorical variables\n",
        "binary_vars = [col for col in dm_clean.columns if dm_clean[col].nunique() == 2]\n",
        "\n",
        "# Converting binary categorical variables to numerical (most frequent category should be 0)\n",
        "for col in binary_vars:\n",
        "    most_frequent = dm_clean[col].mode()[0]\n",
        "    dm_clean[col] = dm_clean[col].apply(lambda x: 0 if x == most_frequent else 1)\n",
        "\n",
        "# Let's copy our column names to another list we can modify\n",
        "all_columns_update = dm_clean.columns.tolist()\n",
        "\n",
        "\n",
        "# Now we can enable our widget dropdown names\n",
        "dd9_all = widgets.Dropdown(options=all_columns_update, description='Correlations:', value='Diabetes', disabled=False)\n",
        "\n",
        "# Define the correlation function which takes one input and compares it against all the other numerical features available\n",
        "def show_corr(col):\n",
        "    corr_df = dm_clean.corr()\n",
        "    display(corr_df.round(3)[col].sort_values(ascending=False))\n",
        "\n",
        "# Display the interactive widget\n",
        "interact(show_corr, col=dd9_all);\n"
      ],
      "metadata": {
        "id": "sDw8i75iQg_K"
      },
      "execution_count": null,
      "outputs": []
    },
    {
      "cell_type": "markdown",
      "source": [
        "This code calculates a \"correlation coefficient\" for each pair of columns.\n",
        "\n",
        "A positive correlation (close to 1) means the values tend to go up together.\n",
        "A negative correlation (close to -1) means as one value goes up, the other tends to go down.\n",
        "A correlation close to zero means there's not much of a linear relationship.\n",
        "You can pick a column from the \"Correlations\" dropdown and see how it's related to all the other columns.\n",
        "\n",
        "Correlation vs. Regression (Quick Review)\n",
        "\n",
        "Think of it this way:\n",
        "\n",
        "Regression (the lines we saw earlier) is about predicting one value from another. The slope of the line tells you the direction and strength of the relationship. The r-squared value tells you how well the line fits, from 0 to 1.\n",
        "Correlation (the numbers we just saw) just tells you the strength and direction of the relationship, from -1 to 1.\n",
        "Correlation values are the same whether you look at the relationship from A to B or B to A. Regression lines and their r-squared values can be different depending on which variable you're trying to predict."
      ],
      "metadata": {
        "id": "yVOY6ZHT2xR4"
      }
    },
    {
      "cell_type": "markdown",
      "source": [
        "## Heatmaps\n",
        "\n",
        "Seeing all those numbers for correlations can be a bit much. A heatmap is a great visual way to see all the correlations at once using colors."
      ],
      "metadata": {
        "id": "v1WH-ntseWml"
      }
    },
    {
      "cell_type": "code",
      "metadata": {
        "id": "tjndnwYYgBTe"
      },
      "source": [
        "# You may have thought lots of code is needed to create this cool depiction. See here - not so complicated.\n",
        "\n",
        "# Calculate the correlation matrix for dm_clean dataframe.\n",
        "corr = dm_clean.corr()\n",
        "\n",
        "# Use Plotly Express to create a heatmap visualization of the correlation matrix.\n",
        "fig = px.imshow(corr, color_continuous_scale=\"Picnic_r\")  # Picnic_r is a color scale for the heatmap\n",
        "fig.update_layout(title_text=\"Heatmap Showing Correlations between Variables\")  # Set the title of the heatmap\n",
        "fig.show()  # Display the heatmap\n"
      ],
      "execution_count": null,
      "outputs": []
    },
    {
      "cell_type": "markdown",
      "metadata": {
        "id": "bvyxVWAWWytz"
      },
      "source": [
        "This heatmap uses colors to show the strength and direction of correlations between all pairs of our columns. The color bar on the right tells you what the colors mean. Stronger positive correlations are one color, and stronger negative correlations are another. White means a correlation close to zero.\n",
        "\n",
        "Hover your mouse over the squares in the heatmap to see the exact correlation value. It's easy to spot the strong relationships this way! For example, you'll see bright colors where Glucose and Diabetes intersect, or where Weight and BMI intersect.\n",
        "\n",
        "That's it for Part 2! You've learned how to explore and visualize your data in many ways. In [Part 3](https://colab.research.google.com/drive/1BGcVeHHYoX6lJmHZl1nZABZlFF2H4QVO?usp=sharing), we'll use this understanding to build a model that can predict whether someone has diabetes!\n",
        "\n",
        "Please complete this [brief survey](https://forms.office.com/Pages/ResponsePage.aspx?id=YdN2fXeCCEekd2ToNmzRvGXoNK98sEZMuZbd9f2qOxtUQzUzVkZWUFoyWlA0TDkxSFg0VVM3SjNDRC4u) to show you're done!\n",
        "\n",
        "Thank you!\n",
        "\n",
        "David Liebovitz, MD\n"
      ]
    }
  ]
}