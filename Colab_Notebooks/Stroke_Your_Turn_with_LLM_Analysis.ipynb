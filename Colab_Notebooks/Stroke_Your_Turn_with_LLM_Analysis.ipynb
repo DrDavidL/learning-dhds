{
  "nbformat": 4,
  "nbformat_minor": 0,
  "metadata": {
    "colab": {
      "provenance": [],
      "private_outputs": true,
      "authorship_tag": "ABX9TyNbsHQwmtFynS/TfSo+cgAt",
      "include_colab_link": true
    },
    "kernelspec": {
      "name": "python3",
      "display_name": "Python 3"
    },
    "language_info": {
      "name": "python"
    }
  },
  "cells": [
    {
      "cell_type": "markdown",
      "metadata": {
        "id": "view-in-github",
        "colab_type": "text"
      },
      "source": [
        "<a href=\"https://colab.research.google.com/github/DrDavidL/learning-dhds/blob/main/Stroke_Your_Turn_with_LLM_Analysis.ipynb\" target=\"_parent\"><img src=\"https://colab.research.google.com/assets/colab-badge.svg\" alt=\"Open In Colab\"/></a>"
      ]
    },
    {
      "cell_type": "markdown",
      "source": [
        "##Let's Start Fresh with a Stroke Dataset!\n",
        "\n",
        "The code in this first cell below will retrieve data, and describe some elements. It's up to you (with gemini!) to make visualizations and predictive models! Add more coding cells and use Gemini to explore data and create predictive models. Ask it for help if uncertain!"
      ],
      "metadata": {
        "id": "jwpzrJLOyZVF"
      }
    },
    {
      "cell_type": "code",
      "execution_count": null,
      "metadata": {
        "id": "lzz6DNTWyXmX"
      },
      "outputs": [],
      "source": [
        "import pandas as pd\n",
        "\n",
        "url = 'https://raw.githubusercontent.com/DrDavidL/local-colab/refs/heads/main/data/healthcare-dataset-stroke-data.csv'\n",
        "df = pd.read_csv(url)\n",
        "\n",
        "print(\"Dataset Info:\")\n",
        "display(df.info())\n",
        "\n",
        "print(\"\\nFirst 5 rows of the dataset:\")\n",
        "display(df.head())\n",
        "\n",
        "print(\"\\nSummary Statistics:\")\n",
        "display(df.describe())"
      ]
    }
  ]
}